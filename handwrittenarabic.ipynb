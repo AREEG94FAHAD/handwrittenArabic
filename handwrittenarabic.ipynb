{
 "cells": [
  {
   "cell_type": "markdown",
   "id": "71a4238a",
   "metadata": {
    "_cell_guid": "b1076dfc-b9ad-4769-8c92-a6c4dae69d19",
    "_uuid": "8f2839f25d086af736a60e9eeb907d3b93b6e0e5",
    "papermill": {
     "duration": 0.011902,
     "end_time": "2023-05-16T20:25:45.284779",
     "exception": false,
     "start_time": "2023-05-16T20:25:45.272877",
     "status": "completed"
    },
    "tags": []
   },
   "source": [
    "# Preprocessing "
   ]
  },
  {
   "cell_type": "code",
   "execution_count": 1,
   "id": "6460bb9a",
   "metadata": {
    "execution": {
     "iopub.execute_input": "2023-05-16T20:25:45.308541Z",
     "iopub.status.busy": "2023-05-16T20:25:45.308145Z",
     "iopub.status.idle": "2023-05-16T20:25:52.308364Z",
     "shell.execute_reply": "2023-05-16T20:25:52.307421Z"
    },
    "papermill": {
     "duration": 7.015188,
     "end_time": "2023-05-16T20:25:52.311072",
     "exception": false,
     "start_time": "2023-05-16T20:25:45.295884",
     "status": "completed"
    },
    "tags": []
   },
   "outputs": [
    {
     "name": "stderr",
     "output_type": "stream",
     "text": [
      "/opt/conda/lib/python3.10/site-packages/scipy/__init__.py:146: UserWarning: A NumPy version >=1.16.5 and <1.23.0 is required for this version of SciPy (detected version 1.23.5\n",
      "  warnings.warn(f\"A NumPy version >={np_minversion} and <{np_maxversion}\"\n"
     ]
    }
   ],
   "source": [
    "import pandas as pd\n",
    "%matplotlib inline\n",
    "\n",
    "import matplotlib\n",
    "import matplotlib.pyplot as plt\n",
    "\n",
    "import tensorflow as tf\n",
    "import numpy as np\n",
    "\n",
    "from tensorflow.keras.datasets import mnist\n",
    "from tensorflow.keras.layers import Input, Dense\n",
    "from tensorflow.keras import Sequential, Model\n",
    "from tensorflow.keras.losses import sparse_categorical_crossentropy\n",
    "from tensorflow.keras.metrics import sparse_categorical_accuracy, Precision\n",
    "from tensorflow.keras.optimizers import Adam, SGD"
   ]
  },
  {
   "cell_type": "code",
   "execution_count": 2,
   "id": "17fcd453",
   "metadata": {
    "execution": {
     "iopub.execute_input": "2023-05-16T20:25:52.335318Z",
     "iopub.status.busy": "2023-05-16T20:25:52.334739Z",
     "iopub.status.idle": "2023-05-16T20:25:58.283969Z",
     "shell.execute_reply": "2023-05-16T20:25:58.283002Z"
    },
    "papermill": {
     "duration": 5.96409,
     "end_time": "2023-05-16T20:25:58.286672",
     "exception": false,
     "start_time": "2023-05-16T20:25:52.322582",
     "status": "completed"
    },
    "tags": []
   },
   "outputs": [],
   "source": [
    "import pandas as pd\n",
    "X_train = pd.read_csv(\"../input/ahdd1/csvTrainImages 60k x 784/csvTrainImages 60k x 784.csv\").values\n",
    "Y_train = pd.read_csv(\"../input/ahdd1/csvTrainLabel 60k x 1.csv\").values\n",
    "X_test = pd.read_csv(\"../input/ahdd1/csvTestImages 10k x 784.csv\").values\n",
    "Y_test = pd.read_csv(\"../input/ahdd1/csvTestLabel 10k x 1.csv\").values\n",
    "\n",
    "\n",
    "X_train, X_test = (X_train / 255.0), (X_test / 255.0)\n",
    "X_train = X_train.reshape((59999, 28, 28, 1))\n",
    "X_test = X_test.reshape((9999, 28, 28,1))\n",
    "\n",
    "from tensorflow import keras\n",
    "from tensorflow.keras import layers\n",
    "\n",
    "# Define input shape\n",
    "input_shape = (28, 28, 1)"
   ]
  },
  {
   "cell_type": "markdown",
   "id": "68e25270",
   "metadata": {
    "papermill": {
     "duration": 0.011646,
     "end_time": "2023-05-16T20:25:58.310789",
     "exception": false,
     "start_time": "2023-05-16T20:25:58.299143",
     "status": "completed"
    },
    "tags": []
   },
   "source": [
    "# 1- inception "
   ]
  },
  {
   "cell_type": "code",
   "execution_count": 3,
   "id": "656eeda5",
   "metadata": {
    "execution": {
     "iopub.execute_input": "2023-05-16T20:25:58.335288Z",
     "iopub.status.busy": "2023-05-16T20:25:58.334942Z",
     "iopub.status.idle": "2023-05-16T20:26:00.880621Z",
     "shell.execute_reply": "2023-05-16T20:26:00.879680Z"
    },
    "papermill": {
     "duration": 2.561032,
     "end_time": "2023-05-16T20:26:00.883128",
     "exception": false,
     "start_time": "2023-05-16T20:25:58.322096",
     "status": "completed"
    },
    "tags": []
   },
   "outputs": [],
   "source": [
    "inception = keras.Sequential()\n",
    "\n",
    "# Add first inception block\n",
    "inception.add(layers.Conv2D(32, kernel_size=(1, 1), activation='relu', input_shape=input_shape))\n",
    "inception.add(layers.Conv2D(64, (1, 1), activation='relu'))\n",
    "inception.add(layers.Conv2D(64, (3, 3), activation='relu', padding='same'))\n",
    "inception.add(layers.Conv2D(64, (5, 5), activation='relu', padding='same'))\n",
    "inception.add(layers.MaxPooling2D(pool_size=(3, 3), strides=(1, 1), padding='same'))\n",
    "inception.add(layers.Conv2D(64, (1, 1), activation='relu'))\n",
    "\n",
    "# Add second inception block\n",
    "inception.add(layers.Conv2D(64, kernel_size=(1, 1), activation='relu'))\n",
    "inception.add(layers.Conv2D(128, (1, 1), activation='relu'))\n",
    "inception.add(layers.Conv2D(128, (3, 3), activation='relu', padding='same'))\n",
    "inception.add(layers.Conv2D(128, (5, 5), activation='relu', padding='same'))\n",
    "inception.add(layers.MaxPooling2D(pool_size=(3, 3), strides=(1, 1), padding='same'))\n",
    "inception.add(layers.Conv2D(128, (1, 1), activation='relu'))\n",
    "\n",
    "# Add third inception block\n",
    "inception.add(layers.Conv2D(128, kernel_size=(1, 1), activation='relu'))\n",
    "inception.add(layers.Conv2D(256, (1, 1), activation='relu'))\n",
    "inception.add(layers.Conv2D(256, (3, 3), activation='relu', padding='same'))\n",
    "inception.add(layers.Conv2D(256, (5, 5), activation='relu', padding='same'))\n",
    "inception.add(layers.MaxPooling2D(pool_size=(3, 3), strides=(1, 1), padding='same'))\n",
    "inception.add(layers.Conv2D(256, (1, 1), activation='relu'))\n",
    "\n",
    "# Add dropout layer\n",
    "inception.add(layers.Dropout(0.25))\n",
    "\n",
    "# Flatten the output of the inception layers\n",
    "inception.add(layers.Flatten())\n",
    "\n",
    "# Add dense layers\n",
    "inception.add(layers.Dense(512, activation='relu'))\n",
    "inception.add(layers.Dropout(0.5))\n",
    "inception.add(layers.Dense(10, activation='softmax'))"
   ]
  },
  {
   "cell_type": "code",
   "execution_count": 4,
   "id": "c140bba2",
   "metadata": {
    "execution": {
     "iopub.execute_input": "2023-05-16T20:26:00.908736Z",
     "iopub.status.busy": "2023-05-16T20:26:00.906958Z",
     "iopub.status.idle": "2023-05-16T20:36:31.259281Z",
     "shell.execute_reply": "2023-05-16T20:36:31.258298Z"
    },
    "papermill": {
     "duration": 630.36708,
     "end_time": "2023-05-16T20:36:31.261683",
     "exception": false,
     "start_time": "2023-05-16T20:26:00.894603",
     "status": "completed"
    },
    "tags": []
   },
   "outputs": [
    {
     "name": "stdout",
     "output_type": "stream",
     "text": [
      "Epoch 1/10\n"
     ]
    },
    {
     "name": "stderr",
     "output_type": "stream",
     "text": [
      "2023-05-16 20:26:03.579201: E tensorflow/core/grappler/optimizers/meta_optimizer.cc:954] layout failed: INVALID_ARGUMENT: Size of values 0 does not match size of permutation 4 @ fanin shape insequential/dropout/dropout/SelectV2-2-TransposeNHWCToNCHW-LayoutOptimizer\n"
     ]
    },
    {
     "name": "stdout",
     "output_type": "stream",
     "text": [
      "313/313 [==============================] - 73s 187ms/step - loss: 0.2241 - sparse_categorical_accuracy: 0.9254\n",
      "Epoch 2/10\n",
      "313/313 [==============================] - 57s 181ms/step - loss: 0.0396 - sparse_categorical_accuracy: 0.9891\n",
      "Epoch 3/10\n",
      "313/313 [==============================] - 57s 181ms/step - loss: 0.0310 - sparse_categorical_accuracy: 0.9911\n",
      "Epoch 4/10\n",
      "313/313 [==============================] - 57s 181ms/step - loss: 0.0248 - sparse_categorical_accuracy: 0.9925\n",
      "Epoch 5/10\n",
      "313/313 [==============================] - 57s 181ms/step - loss: 0.0204 - sparse_categorical_accuracy: 0.9937\n",
      "Epoch 6/10\n",
      "313/313 [==============================] - 57s 182ms/step - loss: 0.0178 - sparse_categorical_accuracy: 0.9946\n",
      "Epoch 7/10\n",
      "313/313 [==============================] - 57s 181ms/step - loss: 0.0169 - sparse_categorical_accuracy: 0.9950\n",
      "Epoch 8/10\n",
      "313/313 [==============================] - 57s 181ms/step - loss: 0.0146 - sparse_categorical_accuracy: 0.9958\n",
      "Epoch 9/10\n",
      "313/313 [==============================] - 57s 181ms/step - loss: 0.0149 - sparse_categorical_accuracy: 0.9952\n",
      "Epoch 10/10\n",
      "313/313 [==============================] - 57s 181ms/step - loss: 0.0129 - sparse_categorical_accuracy: 0.9961\n",
      "313/313 [==============================] - 5s 14ms/step - loss: 0.0300 - sparse_categorical_accuracy: 0.9917\n"
     ]
    }
   ],
   "source": [
    "optinception = Adam(learning_rate=0.0005)\n",
    "inception.compile(optimizer=optinception,\n",
    "              loss=sparse_categorical_crossentropy,\n",
    "              metrics=[sparse_categorical_accuracy])\n",
    "inception.fit(X_train, Y_train, epochs=10, batch_size=192)\n",
    "predsinception = inception.evaluate(X_test, Y_test)"
   ]
  },
  {
   "cell_type": "code",
   "execution_count": 5,
   "id": "e055f349",
   "metadata": {
    "execution": {
     "iopub.execute_input": "2023-05-16T20:36:31.754882Z",
     "iopub.status.busy": "2023-05-16T20:36:31.753919Z",
     "iopub.status.idle": "2023-05-16T20:36:31.758545Z",
     "shell.execute_reply": "2023-05-16T20:36:31.757530Z"
    },
    "papermill": {
     "duration": 0.253492,
     "end_time": "2023-05-16T20:36:31.760671",
     "exception": false,
     "start_time": "2023-05-16T20:36:31.507179",
     "status": "completed"
    },
    "tags": []
   },
   "outputs": [],
   "source": [
    "# predictionsinception = model.predict(X_test[0:1])\n",
    "# predicted_class_indexinception = np.argmax(predictions, axis=-1)"
   ]
  },
  {
   "cell_type": "code",
   "execution_count": 6,
   "id": "14c5b202",
   "metadata": {
    "execution": {
     "iopub.execute_input": "2023-05-16T20:36:32.255813Z",
     "iopub.status.busy": "2023-05-16T20:36:32.255436Z",
     "iopub.status.idle": "2023-05-16T20:36:32.261553Z",
     "shell.execute_reply": "2023-05-16T20:36:32.260453Z"
    },
    "papermill": {
     "duration": 0.259563,
     "end_time": "2023-05-16T20:36:32.264781",
     "exception": false,
     "start_time": "2023-05-16T20:36:32.005218",
     "status": "completed"
    },
    "tags": []
   },
   "outputs": [
    {
     "name": "stdout",
     "output_type": "stream",
     "text": [
      "acc 0.9916991591453552\n"
     ]
    }
   ],
   "source": [
    "print(\"acc\",predsinception[1])"
   ]
  },
  {
   "cell_type": "code",
   "execution_count": 7,
   "id": "a3955002",
   "metadata": {
    "execution": {
     "iopub.execute_input": "2023-05-16T20:36:32.788431Z",
     "iopub.status.busy": "2023-05-16T20:36:32.788095Z",
     "iopub.status.idle": "2023-05-16T20:36:37.679392Z",
     "shell.execute_reply": "2023-05-16T20:36:37.678260Z"
    },
    "papermill": {
     "duration": 5.172008,
     "end_time": "2023-05-16T20:36:37.681757",
     "exception": false,
     "start_time": "2023-05-16T20:36:32.509749",
     "status": "completed"
    },
    "tags": []
   },
   "outputs": [
    {
     "name": "stdout",
     "output_type": "stream",
     "text": [
      "313/313 [==============================] - 4s 11ms/step\n",
      "Precision: 0.991723, Recall: 0.991699, F1-score: 0.991705\n"
     ]
    }
   ],
   "source": [
    "y_predinception = inception.predict(X_test)\n",
    "y_predinception = np.argmax(y_predinception,axis=-1 )\n",
    "\n",
    "from sklearn.metrics import precision_score, recall_score, f1_score\n",
    "\n",
    "# y_test is the true labels and y_pred is the predicted labels\n",
    "precision = precision_score(Y_test, y_predinception, average='macro')\n",
    "recall = recall_score(Y_test, y_predinception, average='macro')\n",
    "f1 = f1_score(Y_test, y_predinception, average='macro')\n",
    "\n",
    "print(f'Precision: {precision:.6f}, Recall: {recall:.6f}, F1-score: {f1:.6f}')\n"
   ]
  },
  {
   "cell_type": "code",
   "execution_count": 8,
   "id": "b482f2da",
   "metadata": {
    "execution": {
     "iopub.execute_input": "2023-05-16T20:36:38.218192Z",
     "iopub.status.busy": "2023-05-16T20:36:38.217833Z",
     "iopub.status.idle": "2023-05-16T20:36:40.789162Z",
     "shell.execute_reply": "2023-05-16T20:36:40.787994Z"
    },
    "papermill": {
     "duration": 2.830385,
     "end_time": "2023-05-16T20:36:40.792621",
     "exception": false,
     "start_time": "2023-05-16T20:36:37.962236",
     "status": "completed"
    },
    "tags": []
   },
   "outputs": [],
   "source": [
    "inception.save('inception.h5')\n"
   ]
  },
  {
   "cell_type": "markdown",
   "id": "7ad8bb0a",
   "metadata": {
    "papermill": {
     "duration": 0.436733,
     "end_time": "2023-05-16T20:36:41.918818",
     "exception": false,
     "start_time": "2023-05-16T20:36:41.482085",
     "status": "completed"
    },
    "tags": []
   },
   "source": [
    "# 2- lenet 5"
   ]
  },
  {
   "cell_type": "code",
   "execution_count": 9,
   "id": "a435ccde",
   "metadata": {
    "execution": {
     "iopub.execute_input": "2023-05-16T20:36:42.427337Z",
     "iopub.status.busy": "2023-05-16T20:36:42.426905Z",
     "iopub.status.idle": "2023-05-16T20:36:42.513064Z",
     "shell.execute_reply": "2023-05-16T20:36:42.511701Z"
    },
    "papermill": {
     "duration": 0.344844,
     "end_time": "2023-05-16T20:36:42.515171",
     "exception": false,
     "start_time": "2023-05-16T20:36:42.170327",
     "status": "completed"
    },
    "tags": []
   },
   "outputs": [],
   "source": [
    "from keras.layers import Conv2D, AveragePooling2D, Flatten, Dense\n",
    "lenet5 = keras.Sequential()\n",
    "\n",
    "lenet5.add(Conv2D(filters=6, kernel_size=(5, 5), strides=(1, 1), activation='relu', input_shape=(28, 28, 1)))\n",
    "lenet5.add(AveragePooling2D(pool_size=(2, 2), strides=(2, 2)))\n",
    "lenet5.add(Conv2D(filters=16, kernel_size=(5, 5), strides=(1, 1), activation='relu'))\n",
    "lenet5.add(AveragePooling2D(pool_size=(2, 2), strides=(2, 2)))\n",
    "lenet5.add(Flatten())\n",
    "lenet5.add(Dense(units=120, activation='relu'))\n",
    "lenet5.add(Dense(units=84, activation='relu'))\n",
    "lenet5.add(Dense(units=10, activation='softmax'))"
   ]
  },
  {
   "cell_type": "code",
   "execution_count": 10,
   "id": "1fa217f0",
   "metadata": {
    "execution": {
     "iopub.execute_input": "2023-05-16T20:36:43.077701Z",
     "iopub.status.busy": "2023-05-16T20:36:43.076745Z",
     "iopub.status.idle": "2023-05-16T20:37:23.587643Z",
     "shell.execute_reply": "2023-05-16T20:37:23.586637Z"
    },
    "papermill": {
     "duration": 40.785015,
     "end_time": "2023-05-16T20:37:23.589696",
     "exception": false,
     "start_time": "2023-05-16T20:36:42.804681",
     "status": "completed"
    },
    "tags": []
   },
   "outputs": [
    {
     "name": "stdout",
     "output_type": "stream",
     "text": [
      "Epoch 1/20\n",
      "469/469 [==============================] - 4s 4ms/step - loss: 0.2814 - sparse_categorical_accuracy: 0.9163\n",
      "Epoch 2/20\n",
      "469/469 [==============================] - 2s 4ms/step - loss: 0.0800 - sparse_categorical_accuracy: 0.9773\n",
      "Epoch 3/20\n",
      "469/469 [==============================] - 2s 4ms/step - loss: 0.0532 - sparse_categorical_accuracy: 0.9844\n",
      "Epoch 4/20\n",
      "469/469 [==============================] - 2s 4ms/step - loss: 0.0406 - sparse_categorical_accuracy: 0.9881\n",
      "Epoch 5/20\n",
      "469/469 [==============================] - 2s 4ms/step - loss: 0.0330 - sparse_categorical_accuracy: 0.9901\n",
      "Epoch 6/20\n",
      "469/469 [==============================] - 2s 4ms/step - loss: 0.0269 - sparse_categorical_accuracy: 0.9919\n",
      "Epoch 7/20\n",
      "469/469 [==============================] - 2s 4ms/step - loss: 0.0234 - sparse_categorical_accuracy: 0.9928\n",
      "Epoch 8/20\n",
      "469/469 [==============================] - 2s 4ms/step - loss: 0.0219 - sparse_categorical_accuracy: 0.9933\n",
      "Epoch 9/20\n",
      "469/469 [==============================] - 2s 4ms/step - loss: 0.0208 - sparse_categorical_accuracy: 0.9935\n",
      "Epoch 10/20\n",
      "469/469 [==============================] - 2s 4ms/step - loss: 0.0176 - sparse_categorical_accuracy: 0.9946\n",
      "Epoch 11/20\n",
      "469/469 [==============================] - 2s 4ms/step - loss: 0.0168 - sparse_categorical_accuracy: 0.9946\n",
      "Epoch 12/20\n",
      "469/469 [==============================] - 2s 4ms/step - loss: 0.0152 - sparse_categorical_accuracy: 0.9952\n",
      "Epoch 13/20\n",
      "469/469 [==============================] - 2s 4ms/step - loss: 0.0143 - sparse_categorical_accuracy: 0.9955\n",
      "Epoch 14/20\n",
      "469/469 [==============================] - 2s 4ms/step - loss: 0.0140 - sparse_categorical_accuracy: 0.9953\n",
      "Epoch 15/20\n",
      "469/469 [==============================] - 2s 4ms/step - loss: 0.0125 - sparse_categorical_accuracy: 0.9958\n",
      "Epoch 16/20\n",
      "469/469 [==============================] - 2s 4ms/step - loss: 0.0111 - sparse_categorical_accuracy: 0.9965\n",
      "Epoch 17/20\n",
      "469/469 [==============================] - 2s 4ms/step - loss: 0.0113 - sparse_categorical_accuracy: 0.9962\n",
      "Epoch 18/20\n",
      "469/469 [==============================] - 2s 4ms/step - loss: 0.0106 - sparse_categorical_accuracy: 0.9966\n",
      "Epoch 19/20\n",
      "469/469 [==============================] - 2s 4ms/step - loss: 0.0092 - sparse_categorical_accuracy: 0.9968\n",
      "Epoch 20/20\n",
      "469/469 [==============================] - 2s 4ms/step - loss: 0.0078 - sparse_categorical_accuracy: 0.9974\n",
      "313/313 [==============================] - 1s 2ms/step - loss: 0.0505 - sparse_categorical_accuracy: 0.9876\n"
     ]
    }
   ],
   "source": [
    "optlenet5 = Adam(learning_rate=0.001)\n",
    "lenet5.compile(optimizer=optlenet5,\n",
    "              loss=sparse_categorical_crossentropy,\n",
    "              metrics=[sparse_categorical_accuracy])\n",
    "lenet5.fit(X_train, Y_train, epochs=20, batch_size=128)\n",
    "predslenet5 = lenet5.evaluate(X_test, Y_test)"
   ]
  },
  {
   "cell_type": "code",
   "execution_count": 11,
   "id": "42132bc5",
   "metadata": {
    "execution": {
     "iopub.execute_input": "2023-05-16T20:37:24.270965Z",
     "iopub.status.busy": "2023-05-16T20:37:24.270612Z",
     "iopub.status.idle": "2023-05-16T20:37:25.289056Z",
     "shell.execute_reply": "2023-05-16T20:37:25.287809Z"
    },
    "papermill": {
     "duration": 1.385312,
     "end_time": "2023-05-16T20:37:25.292340",
     "exception": false,
     "start_time": "2023-05-16T20:37:23.907028",
     "status": "completed"
    },
    "tags": []
   },
   "outputs": [
    {
     "name": "stdout",
     "output_type": "stream",
     "text": [
      "acc 0.9875987768173218\n",
      "313/313 [==============================] - 1s 2ms/step\n",
      "Precision: 0.987680, Recall: 0.987595, F1-score: 0.987572\n"
     ]
    }
   ],
   "source": [
    "print(\"acc\",predslenet5[1])\n",
    "y_predlenet5 = lenet5.predict(X_test)\n",
    "y_predlenet5 = np.argmax(y_predlenet5,axis=-1 )\n",
    "\n",
    "from sklearn.metrics import precision_score, recall_score, f1_score\n",
    "\n",
    "# y_test is the true labels and y_pred is the predicted labels\n",
    "precision = precision_score(Y_test, y_predlenet5, average='macro')\n",
    "recall = recall_score(Y_test, y_predlenet5, average='macro')\n",
    "f1 = f1_score(Y_test, y_predlenet5, average='macro')\n",
    "\n",
    "print(f'Precision: {precision:.6f}, Recall: {recall:.6f}, F1-score: {f1:.6f}')"
   ]
  },
  {
   "cell_type": "code",
   "execution_count": 12,
   "id": "64f06e08",
   "metadata": {
    "execution": {
     "iopub.execute_input": "2023-05-16T20:37:26.168761Z",
     "iopub.status.busy": "2023-05-16T20:37:26.168216Z",
     "iopub.status.idle": "2023-05-16T20:37:26.222651Z",
     "shell.execute_reply": "2023-05-16T20:37:26.221730Z"
    },
    "papermill": {
     "duration": 0.493911,
     "end_time": "2023-05-16T20:37:26.225148",
     "exception": false,
     "start_time": "2023-05-16T20:37:25.731237",
     "status": "completed"
    },
    "tags": []
   },
   "outputs": [],
   "source": [
    "lenet5.save('lenet5.h5')"
   ]
  },
  {
   "cell_type": "markdown",
   "id": "b5f48d54",
   "metadata": {
    "papermill": {
     "duration": 0.305946,
     "end_time": "2023-05-16T20:37:26.865209",
     "exception": false,
     "start_time": "2023-05-16T20:37:26.559263",
     "status": "completed"
    },
    "tags": []
   },
   "source": [
    "# 3- resent "
   ]
  },
  {
   "cell_type": "code",
   "execution_count": 13,
   "id": "ce0259a7",
   "metadata": {
    "execution": {
     "iopub.execute_input": "2023-05-16T20:37:27.485501Z",
     "iopub.status.busy": "2023-05-16T20:37:27.485135Z",
     "iopub.status.idle": "2023-05-16T20:37:27.648872Z",
     "shell.execute_reply": "2023-05-16T20:37:27.647939Z"
    },
    "papermill": {
     "duration": 0.477461,
     "end_time": "2023-05-16T20:37:27.651116",
     "exception": false,
     "start_time": "2023-05-16T20:37:27.173655",
     "status": "completed"
    },
    "tags": []
   },
   "outputs": [],
   "source": [
    "from keras.models import Model\n",
    "from tensorflow import keras\n",
    "from keras.layers import Input, Conv2D, BatchNormalization, Activation, MaxPooling2D, Flatten, Dense, Add\n",
    "\n",
    "def res_block(inputs, filters, kernel_size):\n",
    "    # First convolutional layer\n",
    "    x = Conv2D(filters=filters, kernel_size=kernel_size, padding='same')(inputs)\n",
    "    x = BatchNormalization()(x)\n",
    "    x = Activation('relu')(x)\n",
    "    \n",
    "    # Second convolutional layer\n",
    "    x = Conv2D(filters=filters, kernel_size=kernel_size, padding='same')(x)\n",
    "    x = BatchNormalization()(x)\n",
    "    \n",
    "    # Skip connection\n",
    "    skip = Add()([x, inputs])\n",
    "    \n",
    "    # Activation\n",
    "    output = Activation('relu')(skip)\n",
    "    \n",
    "    return output\n",
    "\n",
    "# Input layer\n",
    "inputs = Input(shape=(28, 28, 1))\n",
    "\n",
    "# Convolutional block\n",
    "x = Conv2D(filters=64, kernel_size=(3, 3), padding='same')(inputs)\n",
    "x = BatchNormalization()(x)\n",
    "x = Activation('relu')(x)\n",
    "\n",
    "# Residual blocks\n",
    "x = res_block(x, filters=64, kernel_size=(3, 3))\n",
    "x = res_block(x, filters=64, kernel_size=(3, 3))\n",
    "\n",
    "# Max pooling layer\n",
    "x = MaxPooling2D(pool_size=(2, 2))(x)\n",
    "\n",
    "# Flatten layer\n",
    "x = Flatten()(x)\n",
    "\n",
    "# Dense layers\n",
    "x = Dense(units=128, activation='relu')(x)\n",
    "outputs = Dense(units=10, activation='softmax')(x)\n",
    "\n",
    "# Create model\n",
    "resent = Model(inputs=inputs, outputs=outputs)"
   ]
  },
  {
   "cell_type": "code",
   "execution_count": 14,
   "id": "23f5a394",
   "metadata": {
    "execution": {
     "iopub.execute_input": "2023-05-16T20:37:28.316491Z",
     "iopub.status.busy": "2023-05-16T20:37:28.316122Z",
     "iopub.status.idle": "2023-05-16T20:39:01.885105Z",
     "shell.execute_reply": "2023-05-16T20:39:01.884050Z"
    },
    "papermill": {
     "duration": 93.927224,
     "end_time": "2023-05-16T20:39:01.887582",
     "exception": false,
     "start_time": "2023-05-16T20:37:27.960358",
     "status": "completed"
    },
    "tags": []
   },
   "outputs": [
    {
     "name": "stdout",
     "output_type": "stream",
     "text": [
      "Epoch 1/10\n",
      "313/313 [==============================] - 12s 28ms/step - loss: 0.1654 - sparse_categorical_accuracy: 0.9558\n",
      "Epoch 2/10\n",
      "313/313 [==============================] - 9s 28ms/step - loss: 0.0306 - sparse_categorical_accuracy: 0.9913\n",
      "Epoch 3/10\n",
      "313/313 [==============================] - 9s 28ms/step - loss: 0.0181 - sparse_categorical_accuracy: 0.9946\n",
      "Epoch 4/10\n",
      "313/313 [==============================] - 9s 28ms/step - loss: 0.0129 - sparse_categorical_accuracy: 0.9963\n",
      "Epoch 5/10\n",
      "313/313 [==============================] - 9s 28ms/step - loss: 0.0104 - sparse_categorical_accuracy: 0.9970\n",
      "Epoch 6/10\n",
      "313/313 [==============================] - 9s 27ms/step - loss: 0.0091 - sparse_categorical_accuracy: 0.9975\n",
      "Epoch 7/10\n",
      "313/313 [==============================] - 9s 28ms/step - loss: 0.0057 - sparse_categorical_accuracy: 0.9984\n",
      "Epoch 8/10\n",
      "313/313 [==============================] - 9s 27ms/step - loss: 0.0081 - sparse_categorical_accuracy: 0.9975\n",
      "Epoch 9/10\n",
      "313/313 [==============================] - 9s 28ms/step - loss: 0.0050 - sparse_categorical_accuracy: 0.9985\n",
      "Epoch 10/10\n",
      "313/313 [==============================] - 9s 27ms/step - loss: 0.0023 - sparse_categorical_accuracy: 0.9995\n",
      "313/313 [==============================] - 2s 4ms/step - loss: 0.0370 - sparse_categorical_accuracy: 0.9916\n"
     ]
    }
   ],
   "source": [
    "optresnet = Adam(learning_rate=0.0001)\n",
    "\n",
    "resent.compile(\n",
    "    optimizer=optresnet,\n",
    "    loss=sparse_categorical_crossentropy,\n",
    "    metrics=[sparse_categorical_accuracy],\n",
    ")\n",
    "\n",
    "resent.fit(X_train, Y_train, epochs=10, batch_size=192)\n",
    "predsresent = resent.evaluate(X_test, Y_test)"
   ]
  },
  {
   "cell_type": "code",
   "execution_count": 15,
   "id": "12e9237f",
   "metadata": {
    "execution": {
     "iopub.execute_input": "2023-05-16T20:39:02.806030Z",
     "iopub.status.busy": "2023-05-16T20:39:02.805663Z",
     "iopub.status.idle": "2023-05-16T20:39:04.322864Z",
     "shell.execute_reply": "2023-05-16T20:39:04.320678Z"
    },
    "papermill": {
     "duration": 2.008752,
     "end_time": "2023-05-16T20:39:04.325376",
     "exception": false,
     "start_time": "2023-05-16T20:39:02.316624",
     "status": "completed"
    },
    "tags": []
   },
   "outputs": [
    {
     "name": "stdout",
     "output_type": "stream",
     "text": [
      "acc 0.9915991425514221\n",
      "313/313 [==============================] - 1s 2ms/step\n",
      "Precision: 0.991636, Recall: 0.991599, F1-score: 0.991606\n"
     ]
    }
   ],
   "source": [
    "print(\"acc\",predsresent[1])\n",
    "y_predresent = resent.predict(X_test)\n",
    "y_predresent= np.argmax(y_predresent,axis=-1 )\n",
    "\n",
    "from sklearn.metrics import precision_score, recall_score, f1_score\n",
    "\n",
    "# y_test is the true labels and y_pred is the predicted labels\n",
    "precision = precision_score(Y_test, y_predresent, average='macro')\n",
    "recall = recall_score(Y_test, y_predresent, average='macro')\n",
    "f1 = f1_score(Y_test, y_predresent, average='macro')\n",
    "\n",
    "print(f'Precision: {precision:.6f}, Recall: {recall:.6f}, F1-score: {f1:.6f}')"
   ]
  },
  {
   "cell_type": "code",
   "execution_count": 16,
   "id": "6a212242",
   "metadata": {
    "execution": {
     "iopub.execute_input": "2023-05-16T20:39:05.186314Z",
     "iopub.status.busy": "2023-05-16T20:39:05.185477Z",
     "iopub.status.idle": "2023-05-16T20:39:05.293542Z",
     "shell.execute_reply": "2023-05-16T20:39:05.292600Z"
    },
    "papermill": {
     "duration": 0.541789,
     "end_time": "2023-05-16T20:39:05.295951",
     "exception": false,
     "start_time": "2023-05-16T20:39:04.754162",
     "status": "completed"
    },
    "tags": []
   },
   "outputs": [],
   "source": [
    "resent.save('resent.h5')"
   ]
  },
  {
   "cell_type": "markdown",
   "id": "1f6afa6e",
   "metadata": {
    "papermill": {
     "duration": 0.427635,
     "end_time": "2023-05-16T20:39:06.156455",
     "exception": false,
     "start_time": "2023-05-16T20:39:05.728820",
     "status": "completed"
    },
    "tags": []
   },
   "source": [
    "# 4 mobile v2 "
   ]
  },
  {
   "cell_type": "code",
   "execution_count": 17,
   "id": "337a660e",
   "metadata": {
    "execution": {
     "iopub.execute_input": "2023-05-16T20:39:07.070150Z",
     "iopub.status.busy": "2023-05-16T20:39:07.069805Z",
     "iopub.status.idle": "2023-05-16T20:39:08.196994Z",
     "shell.execute_reply": "2023-05-16T20:39:08.196057Z"
    },
    "papermill": {
     "duration": 1.561206,
     "end_time": "2023-05-16T20:39:08.199425",
     "exception": false,
     "start_time": "2023-05-16T20:39:06.638219",
     "status": "completed"
    },
    "tags": []
   },
   "outputs": [],
   "source": [
    "from keras.applications.mobilenet_v2 import MobileNetV2\n",
    "from keras.layers import Input, Dense, GlobalAveragePooling2D\n",
    "from keras.models import Model\n",
    "\n",
    "input_tensor = Input(shape=(28, 28, 1))\n",
    "base_model = MobileNetV2(input_tensor=input_tensor, weights=None, include_top=False)\n",
    "\n",
    "x = GlobalAveragePooling2D()(base_model.output)\n",
    "x = Dense(128, activation='relu')(x)\n",
    "predictions = Dense(10, activation='softmax')(x)\n",
    "\n",
    "mobilev2 = Model(inputs=base_model.input, outputs=predictions)"
   ]
  },
  {
   "cell_type": "code",
   "execution_count": 18,
   "id": "6649b785",
   "metadata": {
    "execution": {
     "iopub.execute_input": "2023-05-16T20:39:09.057576Z",
     "iopub.status.busy": "2023-05-16T20:39:09.057192Z",
     "iopub.status.idle": "2023-05-16T20:42:29.400084Z",
     "shell.execute_reply": "2023-05-16T20:42:29.399175Z"
    },
    "papermill": {
     "duration": 200.777231,
     "end_time": "2023-05-16T20:42:29.402209",
     "exception": false,
     "start_time": "2023-05-16T20:39:08.624978",
     "status": "completed"
    },
    "tags": []
   },
   "outputs": [
    {
     "name": "stdout",
     "output_type": "stream",
     "text": [
      "Epoch 1/10\n",
      "313/313 [==============================] - 42s 55ms/step - loss: 0.3572 - sparse_categorical_accuracy: 0.8860\n",
      "Epoch 2/10\n",
      "313/313 [==============================] - 17s 55ms/step - loss: 0.0682 - sparse_categorical_accuracy: 0.9808\n",
      "Epoch 3/10\n",
      "313/313 [==============================] - 17s 55ms/step - loss: 0.0455 - sparse_categorical_accuracy: 0.9878\n",
      "Epoch 4/10\n",
      "313/313 [==============================] - 17s 55ms/step - loss: 0.0381 - sparse_categorical_accuracy: 0.9895\n",
      "Epoch 5/10\n",
      "313/313 [==============================] - 17s 54ms/step - loss: 0.0289 - sparse_categorical_accuracy: 0.9923\n",
      "Epoch 6/10\n",
      "313/313 [==============================] - 17s 55ms/step - loss: 0.0309 - sparse_categorical_accuracy: 0.9917\n",
      "Epoch 7/10\n",
      "313/313 [==============================] - 17s 54ms/step - loss: 0.0307 - sparse_categorical_accuracy: 0.9915\n",
      "Epoch 8/10\n",
      "313/313 [==============================] - 17s 55ms/step - loss: 0.0230 - sparse_categorical_accuracy: 0.9940\n",
      "Epoch 9/10\n",
      "313/313 [==============================] - 17s 54ms/step - loss: 0.0249 - sparse_categorical_accuracy: 0.9936\n",
      "Epoch 10/10\n",
      "313/313 [==============================] - 17s 55ms/step - loss: 0.0238 - sparse_categorical_accuracy: 0.9939\n",
      "313/313 [==============================] - 3s 8ms/step - loss: 2.3180 - sparse_categorical_accuracy: 0.1000\n"
     ]
    }
   ],
   "source": [
    "optmobilev2 = Adam(learning_rate=0.001)\n",
    "\n",
    "mobilev2.compile(\n",
    "  optimizer=optmobilev2,\n",
    "  loss=sparse_categorical_crossentropy,\n",
    "  metrics=[sparse_categorical_accuracy],\n",
    ")\n",
    "\n",
    "mobilev2.fit(X_train, Y_train, epochs=10, batch_size=192)\n",
    "predsmobilev2 = mobilev2.evaluate(X_test, Y_test)"
   ]
  },
  {
   "cell_type": "code",
   "execution_count": 19,
   "id": "7d1dc2c7",
   "metadata": {
    "execution": {
     "iopub.execute_input": "2023-05-16T20:42:30.786869Z",
     "iopub.status.busy": "2023-05-16T20:42:30.786501Z",
     "iopub.status.idle": "2023-05-16T20:42:33.735094Z",
     "shell.execute_reply": "2023-05-16T20:42:33.733537Z"
    },
    "papermill": {
     "duration": 3.667836,
     "end_time": "2023-05-16T20:42:33.737106",
     "exception": false,
     "start_time": "2023-05-16T20:42:30.069270",
     "status": "completed"
    },
    "tags": []
   },
   "outputs": [
    {
     "name": "stdout",
     "output_type": "stream",
     "text": [
      "acc 0.10001000016927719\n",
      "313/313 [==============================] - 3s 6ms/step\n",
      "Precision: 0.010001, Recall: 0.100000, F1-score: 0.018183\n"
     ]
    },
    {
     "name": "stderr",
     "output_type": "stream",
     "text": [
      "/opt/conda/lib/python3.10/site-packages/sklearn/metrics/_classification.py:1344: UndefinedMetricWarning: Precision is ill-defined and being set to 0.0 in labels with no predicted samples. Use `zero_division` parameter to control this behavior.\n",
      "  _warn_prf(average, modifier, msg_start, len(result))\n"
     ]
    }
   ],
   "source": [
    "print(\"acc\",predsmobilev2[1])\n",
    "\n",
    "y_predmobilev2 = mobilev2.predict(X_test)\n",
    "y_predmobilev2= np.argmax(y_predmobilev2,axis=-1 )\n",
    "\n",
    "from sklearn.metrics import precision_score, recall_score, f1_score\n",
    "\n",
    "# y_test is the true labels and y_pred is the predicted labels\n",
    "precision = precision_score(Y_test, y_predmobilev2, average='macro')\n",
    "recall = recall_score(Y_test, y_predmobilev2, average='macro')\n",
    "f1 = f1_score(Y_test, y_predmobilev2, average='macro')\n",
    "\n",
    "print(f'Precision: {precision:.6f}, Recall: {recall:.6f}, F1-score: {f1:.6f}')"
   ]
  },
  {
   "cell_type": "code",
   "execution_count": 20,
   "id": "a33074bf",
   "metadata": {
    "execution": {
     "iopub.execute_input": "2023-05-16T20:42:35.084355Z",
     "iopub.status.busy": "2023-05-16T20:42:35.083851Z",
     "iopub.status.idle": "2023-05-16T20:42:35.646149Z",
     "shell.execute_reply": "2023-05-16T20:42:35.644245Z"
    },
    "papermill": {
     "duration": 1.237681,
     "end_time": "2023-05-16T20:42:35.648811",
     "exception": false,
     "start_time": "2023-05-16T20:42:34.411130",
     "status": "completed"
    },
    "tags": []
   },
   "outputs": [],
   "source": [
    "mobilev2.save('mobilev2.h5')"
   ]
  },
  {
   "cell_type": "markdown",
   "id": "4f78837a",
   "metadata": {
    "execution": {
     "iopub.execute_input": "2023-05-05T13:12:09.380630Z",
     "iopub.status.busy": "2023-05-05T13:12:09.379819Z",
     "iopub.status.idle": "2023-05-05T13:12:09.385677Z",
     "shell.execute_reply": "2023-05-05T13:12:09.384691Z",
     "shell.execute_reply.started": "2023-05-05T13:12:09.380597Z"
    },
    "papermill": {
     "duration": 0.733102,
     "end_time": "2023-05-16T20:42:37.109009",
     "exception": false,
     "start_time": "2023-05-16T20:42:36.375907",
     "status": "completed"
    },
    "tags": []
   },
   "source": [
    "# 5 Alex net"
   ]
  },
  {
   "cell_type": "code",
   "execution_count": 21,
   "id": "ca9d1103",
   "metadata": {
    "execution": {
     "iopub.execute_input": "2023-05-16T20:42:38.505078Z",
     "iopub.status.busy": "2023-05-16T20:42:38.504727Z",
     "iopub.status.idle": "2023-05-16T20:42:38.630745Z",
     "shell.execute_reply": "2023-05-16T20:42:38.629850Z"
    },
    "papermill": {
     "duration": 0.851305,
     "end_time": "2023-05-16T20:42:38.633016",
     "exception": false,
     "start_time": "2023-05-16T20:42:37.781711",
     "status": "completed"
    },
    "tags": []
   },
   "outputs": [],
   "source": [
    "from keras.models import Sequential\n",
    "from keras.layers import Conv2D, MaxPooling2D, Flatten, Dense, Dropout\n",
    "\n",
    "alex = Sequential()\n",
    "\n",
    "# Layer 1\n",
    "alex.add(Conv2D(filters=96, kernel_size=(11, 11), strides=(4, 4), activation='relu', input_shape=(28, 28, 1)))\n",
    "alex.add(MaxPooling2D(pool_size=(3, 3), strides=(2, 2), padding='same'))\n",
    "\n",
    "# Layer 2\n",
    "alex.add(Conv2D(filters=256, kernel_size=(5, 5), padding='same', activation='relu'))\n",
    "alex.add(MaxPooling2D(pool_size=(3, 3), strides=(2, 2), padding='same'))\n",
    "\n",
    "# Layer 3\n",
    "alex.add(Conv2D(filters=384, kernel_size=(3, 3), padding='same', activation='relu'))\n",
    "\n",
    "# Layer 4\n",
    "alex.add(Conv2D(filters=384, kernel_size=(3, 3), padding='same', activation='relu'))\n",
    "\n",
    "# Layer 5\n",
    "alex.add(Conv2D(filters=256, kernel_size=(3, 3), padding='same', activation='relu'))\n",
    "alex.add(MaxPooling2D(pool_size=(3, 3), strides=(2, 2), padding='same'))\n",
    "\n",
    "# Layer 6\n",
    "alex.add(Flatten())\n",
    "alex.add(Dense(units=4096, activation='relu'))\n",
    "alex.add(Dropout(0.75))\n",
    "\n",
    "# Layer 7\n",
    "alex.add(Dense(units=4096, activation='relu'))\n",
    "alex.add(Dropout(0.75))\n",
    "\n",
    "# Layer 8\n",
    "alex.add(Dense(units=10, activation='softmax'))"
   ]
  },
  {
   "cell_type": "code",
   "execution_count": 22,
   "id": "63e95312",
   "metadata": {
    "execution": {
     "iopub.execute_input": "2023-05-16T20:42:40.029631Z",
     "iopub.status.busy": "2023-05-16T20:42:40.028542Z",
     "iopub.status.idle": "2023-05-16T20:45:05.411961Z",
     "shell.execute_reply": "2023-05-16T20:45:05.411046Z"
    },
    "papermill": {
     "duration": 146.110508,
     "end_time": "2023-05-16T20:45:05.414912",
     "exception": false,
     "start_time": "2023-05-16T20:42:39.304404",
     "status": "completed"
    },
    "tags": []
   },
   "outputs": [
    {
     "name": "stdout",
     "output_type": "stream",
     "text": [
      "Epoch 1/20\n",
      "313/313 [==============================] - 8s 17ms/step - loss: 0.6553 - sparse_categorical_accuracy: 0.7511\n",
      "Epoch 2/20\n",
      "313/313 [==============================] - 5s 16ms/step - loss: 0.0605 - sparse_categorical_accuracy: 0.9858\n",
      "Epoch 3/20\n",
      "313/313 [==============================] - 5s 16ms/step - loss: 0.0433 - sparse_categorical_accuracy: 0.9904\n",
      "Epoch 4/20\n",
      "313/313 [==============================] - 5s 16ms/step - loss: 0.0380 - sparse_categorical_accuracy: 0.9911\n",
      "Epoch 5/20\n",
      "313/313 [==============================] - 5s 16ms/step - loss: 0.0372 - sparse_categorical_accuracy: 0.9923\n",
      "Epoch 6/20\n",
      "313/313 [==============================] - 5s 16ms/step - loss: 0.0316 - sparse_categorical_accuracy: 0.9927\n",
      "Epoch 7/20\n",
      "313/313 [==============================] - 5s 16ms/step - loss: 0.0289 - sparse_categorical_accuracy: 0.9931\n",
      "Epoch 8/20\n",
      "313/313 [==============================] - 5s 16ms/step - loss: 0.0260 - sparse_categorical_accuracy: 0.9941\n",
      "Epoch 9/20\n",
      "313/313 [==============================] - 5s 16ms/step - loss: 0.0259 - sparse_categorical_accuracy: 0.9942\n",
      "Epoch 10/20\n",
      "313/313 [==============================] - 5s 16ms/step - loss: 0.0191 - sparse_categorical_accuracy: 0.9957\n",
      "Epoch 11/20\n",
      "313/313 [==============================] - 5s 16ms/step - loss: 0.0209 - sparse_categorical_accuracy: 0.9950\n",
      "Epoch 12/20\n",
      "313/313 [==============================] - 5s 16ms/step - loss: 0.0230 - sparse_categorical_accuracy: 0.9950\n",
      "Epoch 13/20\n",
      "313/313 [==============================] - 5s 16ms/step - loss: 0.0249 - sparse_categorical_accuracy: 0.9952\n",
      "Epoch 14/20\n",
      "313/313 [==============================] - 5s 16ms/step - loss: 0.0231 - sparse_categorical_accuracy: 0.9952\n",
      "Epoch 15/20\n",
      "313/313 [==============================] - 5s 16ms/step - loss: 0.0282 - sparse_categorical_accuracy: 0.9943\n",
      "Epoch 16/20\n",
      "313/313 [==============================] - 5s 16ms/step - loss: 0.0172 - sparse_categorical_accuracy: 0.9962\n",
      "Epoch 17/20\n",
      "313/313 [==============================] - 5s 16ms/step - loss: 0.0140 - sparse_categorical_accuracy: 0.9970\n",
      "Epoch 18/20\n",
      "313/313 [==============================] - 5s 16ms/step - loss: 0.0133 - sparse_categorical_accuracy: 0.9970\n",
      "Epoch 19/20\n",
      "313/313 [==============================] - 5s 16ms/step - loss: 0.0098 - sparse_categorical_accuracy: 0.9977\n",
      "Epoch 20/20\n",
      "313/313 [==============================] - 5s 16ms/step - loss: 0.0079 - sparse_categorical_accuracy: 0.9980\n",
      "313/313 [==============================] - 2s 5ms/step - loss: 0.1200 - sparse_categorical_accuracy: 0.9884\n"
     ]
    }
   ],
   "source": [
    "optalex = Adam(learning_rate=0.001)\n",
    "\n",
    "alex.compile(\n",
    "  optimizer=optalex,\n",
    "  loss=sparse_categorical_crossentropy,\n",
    "  metrics=[sparse_categorical_accuracy],\n",
    ")\n",
    "\n",
    "alex.fit(X_train, Y_train, epochs=20, batch_size=192)\n",
    "predsalex = alex.evaluate(X_test, Y_test)"
   ]
  },
  {
   "cell_type": "code",
   "execution_count": 23,
   "id": "575b4e49",
   "metadata": {
    "execution": {
     "iopub.execute_input": "2023-05-16T20:45:07.059247Z",
     "iopub.status.busy": "2023-05-16T20:45:07.058890Z",
     "iopub.status.idle": "2023-05-16T20:45:08.185512Z",
     "shell.execute_reply": "2023-05-16T20:45:08.184418Z"
    },
    "papermill": {
     "duration": 1.978789,
     "end_time": "2023-05-16T20:45:08.187766",
     "exception": false,
     "start_time": "2023-05-16T20:45:06.208977",
     "status": "completed"
    },
    "tags": []
   },
   "outputs": [
    {
     "name": "stdout",
     "output_type": "stream",
     "text": [
      "acc 0.9883988499641418\n",
      "313/313 [==============================] - 1s 3ms/step\n",
      "Precision: 0.988461, Recall: 0.988398, F1-score: 0.988415\n"
     ]
    }
   ],
   "source": [
    "print(\"acc\",predsalex[1])\n",
    "y_predalex = alex.predict(X_test)\n",
    "y_predalex= np.argmax(y_predalex,axis=-1 )\n",
    "\n",
    "from sklearn.metrics import precision_score, recall_score, f1_score\n",
    "\n",
    "# y_test is the true labels and y_pred is the predicted labels\n",
    "precision = precision_score(Y_test, y_predalex, average='macro')\n",
    "recall = recall_score(Y_test, y_predalex, average='macro')\n",
    "f1 = f1_score(Y_test, y_predalex, average='macro')\n",
    "\n",
    "print(f'Precision: {precision:.6f}, Recall: {recall:.6f}, F1-score: {f1:.6f}')"
   ]
  },
  {
   "cell_type": "code",
   "execution_count": 24,
   "id": "8bdabadb",
   "metadata": {
    "execution": {
     "iopub.execute_input": "2023-05-16T20:45:09.847266Z",
     "iopub.status.busy": "2023-05-16T20:45:09.846907Z",
     "iopub.status.idle": "2023-05-16T20:45:10.363256Z",
     "shell.execute_reply": "2023-05-16T20:45:10.362272Z"
    },
    "papermill": {
     "duration": 1.377129,
     "end_time": "2023-05-16T20:45:10.365810",
     "exception": false,
     "start_time": "2023-05-16T20:45:08.988681",
     "status": "completed"
    },
    "tags": []
   },
   "outputs": [],
   "source": [
    "alex.save('alex.h5')"
   ]
  },
  {
   "cell_type": "markdown",
   "id": "f6e56960",
   "metadata": {
    "papermill": {
     "duration": 0.84954,
     "end_time": "2023-05-16T20:45:12.085336",
     "exception": false,
     "start_time": "2023-05-16T20:45:11.235796",
     "status": "completed"
    },
    "tags": []
   },
   "source": [
    "# 6 dense net"
   ]
  },
  {
   "cell_type": "code",
   "execution_count": 25,
   "id": "70494ccd",
   "metadata": {
    "execution": {
     "iopub.execute_input": "2023-05-16T20:45:13.698123Z",
     "iopub.status.busy": "2023-05-16T20:45:13.697773Z",
     "iopub.status.idle": "2023-05-16T20:45:13.782938Z",
     "shell.execute_reply": "2023-05-16T20:45:13.782079Z"
    },
    "papermill": {
     "duration": 0.894903,
     "end_time": "2023-05-16T20:45:13.785105",
     "exception": false,
     "start_time": "2023-05-16T20:45:12.890202",
     "status": "completed"
    },
    "tags": []
   },
   "outputs": [],
   "source": [
    "Densemodel = Sequential()\n",
    "Densemodel.add(Flatten(input_shape=(28, 28, 1)))\n",
    "Densemodel.add(Dense(512, activation='relu'))\n",
    "Densemodel.add(Dense(256, activation='relu'))\n",
    "Densemodel.add(Dense(128, activation='relu'))\n",
    "Densemodel.add(Dense(64, activation='relu'))\n",
    "Densemodel.add(Dense(32, activation='relu'))\n",
    "Densemodel.add(Dense(16, activation='relu'))\n",
    "Densemodel.add(Dense(10, activation='softmax'))\n",
    "\n",
    "# Densemodel.summary()"
   ]
  },
  {
   "cell_type": "code",
   "execution_count": 26,
   "id": "a74b1a16",
   "metadata": {
    "execution": {
     "iopub.execute_input": "2023-05-16T20:45:15.433365Z",
     "iopub.status.busy": "2023-05-16T20:45:15.432858Z",
     "iopub.status.idle": "2023-05-16T20:45:38.873912Z",
     "shell.execute_reply": "2023-05-16T20:45:38.872942Z"
    },
    "papermill": {
     "duration": 24.244107,
     "end_time": "2023-05-16T20:45:38.876349",
     "exception": false,
     "start_time": "2023-05-16T20:45:14.632242",
     "status": "completed"
    },
    "tags": []
   },
   "outputs": [
    {
     "name": "stdout",
     "output_type": "stream",
     "text": [
      "Epoch 1/10\n",
      "313/313 [==============================] - 3s 4ms/step - loss: 0.3323 - sparse_categorical_accuracy: 0.9104\n",
      "Epoch 2/10\n",
      "313/313 [==============================] - 1s 3ms/step - loss: 0.0697 - sparse_categorical_accuracy: 0.9816\n",
      "Epoch 3/10\n",
      "313/313 [==============================] - 1s 4ms/step - loss: 0.0445 - sparse_categorical_accuracy: 0.9880\n",
      "Epoch 4/10\n",
      "313/313 [==============================] - 2s 5ms/step - loss: 0.0301 - sparse_categorical_accuracy: 0.9918\n",
      "Epoch 5/10\n",
      "313/313 [==============================] - 1s 4ms/step - loss: 0.0214 - sparse_categorical_accuracy: 0.9941\n",
      "Epoch 6/10\n",
      "313/313 [==============================] - 1s 3ms/step - loss: 0.0152 - sparse_categorical_accuracy: 0.9957\n",
      "Epoch 7/10\n",
      "313/313 [==============================] - 1s 4ms/step - loss: 0.0128 - sparse_categorical_accuracy: 0.9962\n",
      "Epoch 8/10\n",
      "313/313 [==============================] - 1s 4ms/step - loss: 0.0124 - sparse_categorical_accuracy: 0.9961\n",
      "Epoch 9/10\n",
      "313/313 [==============================] - 1s 4ms/step - loss: 0.0103 - sparse_categorical_accuracy: 0.9968\n",
      "Epoch 10/10\n",
      "313/313 [==============================] - 1s 4ms/step - loss: 0.0067 - sparse_categorical_accuracy: 0.9980\n",
      "313/313 [==============================] - 1s 2ms/step - loss: 0.0957 - sparse_categorical_accuracy: 0.9813\n"
     ]
    }
   ],
   "source": [
    "Densemodelopt = Adam(learning_rate=0.0005)\n",
    "\n",
    "\n",
    "Densemodel.compile(\n",
    "    optimizer=Densemodelopt,\n",
    "    loss=sparse_categorical_crossentropy,\n",
    "    metrics=[sparse_categorical_accuracy],\n",
    ")\n",
    "\n",
    "Densemodel.fit(X_train, Y_train, epochs=10, batch_size=192)\n",
    "predsDensemodel = Densemodel.evaluate(X_test, Y_test)"
   ]
  },
  {
   "cell_type": "code",
   "execution_count": 27,
   "id": "742ed4d9",
   "metadata": {
    "execution": {
     "iopub.execute_input": "2023-05-16T20:45:40.582139Z",
     "iopub.status.busy": "2023-05-16T20:45:40.581266Z",
     "iopub.status.idle": "2023-05-16T20:45:42.033077Z",
     "shell.execute_reply": "2023-05-16T20:45:42.032141Z"
    },
    "papermill": {
     "duration": 2.2771,
     "end_time": "2023-05-16T20:45:42.035233",
     "exception": false,
     "start_time": "2023-05-16T20:45:39.758133",
     "status": "completed"
    },
    "tags": []
   },
   "outputs": [
    {
     "name": "stdout",
     "output_type": "stream",
     "text": [
      "acc 0.9812981486320496\n",
      "313/313 [==============================] - 1s 2ms/step\n",
      "Precision: 0.981450, Recall: 0.981297, F1-score: 0.981329\n"
     ]
    }
   ],
   "source": [
    "print(\"acc\",predsDensemodel[1])\n",
    "y_preddense = Densemodel.predict(X_test)\n",
    "y_preddense= np.argmax(y_preddense,axis=-1 )\n",
    "\n",
    "from sklearn.metrics import precision_score, recall_score, f1_score\n",
    "\n",
    "# y_test is the true labels and y_pred is the predicted labels\n",
    "precision = precision_score(Y_test, y_preddense, average='macro')\n",
    "recall = recall_score(Y_test, y_preddense, average='macro')\n",
    "f1 = f1_score(Y_test, y_preddense, average='macro')\n",
    "\n",
    "print(f'Precision: {precision:.6f}, Recall: {recall:.6f}, F1-score: {f1:.6f}')"
   ]
  },
  {
   "cell_type": "code",
   "execution_count": 28,
   "id": "948f6e8e",
   "metadata": {
    "execution": {
     "iopub.execute_input": "2023-05-16T20:45:43.799048Z",
     "iopub.status.busy": "2023-05-16T20:45:43.798626Z",
     "iopub.status.idle": "2023-05-16T20:45:43.870140Z",
     "shell.execute_reply": "2023-05-16T20:45:43.869235Z"
    },
    "papermill": {
     "duration": 1.006965,
     "end_time": "2023-05-16T20:45:43.872398",
     "exception": false,
     "start_time": "2023-05-16T20:45:42.865433",
     "status": "completed"
    },
    "tags": []
   },
   "outputs": [],
   "source": [
    "Densemodel.save('Densemodel.h5')\n"
   ]
  },
  {
   "cell_type": "code",
   "execution_count": 29,
   "id": "3da8a0bf",
   "metadata": {
    "execution": {
     "iopub.execute_input": "2023-05-16T20:45:45.595833Z",
     "iopub.status.busy": "2023-05-16T20:45:45.595166Z",
     "iopub.status.idle": "2023-05-16T20:45:45.599994Z",
     "shell.execute_reply": "2023-05-16T20:45:45.598870Z"
    },
    "papermill": {
     "duration": 0.913847,
     "end_time": "2023-05-16T20:45:45.602641",
     "exception": false,
     "start_time": "2023-05-16T20:45:44.688794",
     "status": "completed"
    },
    "tags": []
   },
   "outputs": [],
   "source": [
    "# import time\n",
    "# from tensorflow.keras.models import load_model\n",
    "\n",
    "# model1 = load_model('path/to/saved/model')\n",
    "# model2 = load_model('path/to/saved/model')\n",
    "# model3 = load_model('path/to/saved/model')\n",
    "# model4 = load_model('path/to/saved/model')\n",
    "# model5 = load_model('path/to/saved/model')\n",
    "# model6 = load_model('path/to/saved/model')\n",
    "\n",
    "\n",
    "# start_time = time.time() # start the timer\n",
    "\n",
    "\n",
    "\n",
    "\n",
    "\n",
    "# end_time = time.time() # stop the timer\n",
    "\n",
    "# elapsed_time = end_time - start_time\n",
    "# print(\"Elapsed time: \", elapsed_time, \"seconds\")"
   ]
  },
  {
   "cell_type": "code",
   "execution_count": 30,
   "id": "b85d8d4e",
   "metadata": {
    "execution": {
     "iopub.execute_input": "2023-05-16T20:45:47.259395Z",
     "iopub.status.busy": "2023-05-16T20:45:47.259054Z",
     "iopub.status.idle": "2023-05-16T20:45:58.758482Z",
     "shell.execute_reply": "2023-05-16T20:45:58.757521Z"
    },
    "papermill": {
     "duration": 12.319813,
     "end_time": "2023-05-16T20:45:58.760848",
     "exception": false,
     "start_time": "2023-05-16T20:45:46.441035",
     "status": "completed"
    },
    "tags": []
   },
   "outputs": [
    {
     "name": "stdout",
     "output_type": "stream",
     "text": [
      "313/313 [==============================] - 2s 6ms/step\n",
      "313/313 [==============================] - 1s 2ms/step\n",
      "313/313 [==============================] - 1s 2ms/step\n",
      "313/313 [==============================] - 4s 11ms/step\n",
      "313/313 [==============================] - 1s 3ms/step\n",
      "313/313 [==============================] - 1s 2ms/step\n"
     ]
    }
   ],
   "source": [
    "mv2 = mobilev2.predict(X_test)\n",
    "lenet55 = lenet5.predict(X_test)\n",
    "resesent = resent.predict(X_test)\n",
    "inince = inception.predict(X_test)\n",
    "allllex = alex.predict(X_test)\n",
    "dense = Densemodel.predict(X_test)\n",
    "# np.argmax(p, axis=-1)\n"
   ]
  },
  {
   "cell_type": "code",
   "execution_count": 31,
   "id": "405a783b",
   "metadata": {
    "execution": {
     "iopub.execute_input": "2023-05-16T20:46:00.465457Z",
     "iopub.status.busy": "2023-05-16T20:46:00.464767Z",
     "iopub.status.idle": "2023-05-16T20:46:00.473374Z",
     "shell.execute_reply": "2023-05-16T20:46:00.472393Z"
    },
    "papermill": {
     "duration": 0.835995,
     "end_time": "2023-05-16T20:46:00.475772",
     "exception": false,
     "start_time": "2023-05-16T20:45:59.639777",
     "status": "completed"
    },
    "tags": []
   },
   "outputs": [
    {
     "name": "stdout",
     "output_type": "stream",
     "text": [
      "(9999,)\n"
     ]
    }
   ],
   "source": [
    "alex = np.argmax(allllex,axis=-1 )\n",
    "mv2 = np.argmax(mv2, axis=-1)\n",
    "lenet55 = np.argmax(lenet55, axis=-1)\n",
    "resesent = np.argmax(resesent, axis=-1)\n",
    "inincem = np.argmax(inince, axis=-1)\n",
    "dense = np.argmax(dense, axis=-1)\n",
    "print(mv2.shape)"
   ]
  },
  {
   "cell_type": "code",
   "execution_count": 32,
   "id": "2255cf24",
   "metadata": {
    "execution": {
     "iopub.execute_input": "2023-05-16T20:46:02.185289Z",
     "iopub.status.busy": "2023-05-16T20:46:02.184939Z",
     "iopub.status.idle": "2023-05-16T20:46:02.399319Z",
     "shell.execute_reply": "2023-05-16T20:46:02.398118Z"
    },
    "papermill": {
     "duration": 1.045515,
     "end_time": "2023-05-16T20:46:02.401265",
     "exception": false,
     "start_time": "2023-05-16T20:46:01.355750",
     "status": "completed"
    },
    "tags": []
   },
   "outputs": [
    {
     "name": "stdout",
     "output_type": "stream",
     "text": [
      "(9999, 28, 28, 1)\n",
      "[1 2 3 ... 7 8 9]\n"
     ]
    }
   ],
   "source": [
    "re = np.array([], dtype=int)\n",
    "from collections import Counter\n",
    "print(X_test.shape)\n",
    "for i in range((X_test.shape[0])):\n",
    "    first_elems = [mv2[i], lenet55[i], resesent[i], alex[i], inincem[i], dense[i]]\n",
    "\n",
    "    most_common_first_elem = Counter(first_elems).most_common(1)[0][0]\n",
    "    \n",
    "    re = np.append(re, most_common_first_elem)\n",
    "\n",
    "#     print(most_common_first_elem)\n",
    "print(re)"
   ]
  },
  {
   "cell_type": "code",
   "execution_count": 33,
   "id": "6bdfc094",
   "metadata": {
    "execution": {
     "iopub.execute_input": "2023-05-16T20:46:04.123177Z",
     "iopub.status.busy": "2023-05-16T20:46:04.122817Z",
     "iopub.status.idle": "2023-05-16T20:46:04.129389Z",
     "shell.execute_reply": "2023-05-16T20:46:04.128508Z"
    },
    "papermill": {
     "duration": 0.842524,
     "end_time": "2023-05-16T20:46:04.131619",
     "exception": false,
     "start_time": "2023-05-16T20:46:03.289095",
     "status": "completed"
    },
    "tags": []
   },
   "outputs": [
    {
     "name": "stdout",
     "output_type": "stream",
     "text": [
      "Common values: [1 2 3 ... 7 8 9]\n",
      "Number of common values: 9919\n"
     ]
    }
   ],
   "source": [
    "mask = (re == np.squeeze(Y_test))\n",
    "common_values = re[mask]\n",
    "\n",
    "# Print the common values and their length\n",
    "print(\"Common values:\", common_values)\n",
    "print(\"Number of common values:\", len(common_values))\n",
    "\n",
    "# print(np.squeeze(Y_test).shape)"
   ]
  },
  {
   "cell_type": "code",
   "execution_count": 34,
   "id": "117d3a48",
   "metadata": {
    "execution": {
     "iopub.execute_input": "2023-05-16T20:46:05.975963Z",
     "iopub.status.busy": "2023-05-16T20:46:05.975619Z",
     "iopub.status.idle": "2023-05-16T20:46:05.980721Z",
     "shell.execute_reply": "2023-05-16T20:46:05.979824Z"
    },
    "papermill": {
     "duration": 0.954353,
     "end_time": "2023-05-16T20:46:05.983417",
     "exception": false,
     "start_time": "2023-05-16T20:46:05.029064",
     "status": "completed"
    },
    "tags": []
   },
   "outputs": [
    {
     "name": "stdout",
     "output_type": "stream",
     "text": [
      "(9919,)\n"
     ]
    }
   ],
   "source": [
    "print(common_values.shape)"
   ]
  },
  {
   "cell_type": "code",
   "execution_count": 35,
   "id": "3c748fe1",
   "metadata": {
    "execution": {
     "iopub.execute_input": "2023-05-16T20:46:07.723417Z",
     "iopub.status.busy": "2023-05-16T20:46:07.722517Z",
     "iopub.status.idle": "2023-05-16T20:46:07.742436Z",
     "shell.execute_reply": "2023-05-16T20:46:07.741263Z"
    },
    "papermill": {
     "duration": 0.860886,
     "end_time": "2023-05-16T20:46:07.744628",
     "exception": false,
     "start_time": "2023-05-16T20:46:06.883742",
     "status": "completed"
    },
    "tags": []
   },
   "outputs": [
    {
     "name": "stdout",
     "output_type": "stream",
     "text": [
      "Precision: 0.992006, Recall: 0.991998, F1-score: 0.992000\n"
     ]
    }
   ],
   "source": [
    "from sklearn.metrics import precision_score, recall_score, f1_score\n",
    "\n",
    "# y_test is the true labels and y_pred is the predicted labels\n",
    "precision = precision_score(Y_test, re, average='macro')\n",
    "recall = recall_score(Y_test, re, average='macro')\n",
    "f1 = f1_score(Y_test, re, average='macro')\n",
    "\n",
    "print(f'Precision: {precision:.6f}, Recall: {recall:.6f}, F1-score: {f1:.6f}')\n"
   ]
  },
  {
   "cell_type": "code",
   "execution_count": 36,
   "id": "9b3c0429",
   "metadata": {
    "execution": {
     "iopub.execute_input": "2023-05-16T20:46:09.490721Z",
     "iopub.status.busy": "2023-05-16T20:46:09.490171Z",
     "iopub.status.idle": "2023-05-16T20:46:09.702775Z",
     "shell.execute_reply": "2023-05-16T20:46:09.701877Z"
    },
    "papermill": {
     "duration": 1.116565,
     "end_time": "2023-05-16T20:46:09.704775",
     "exception": false,
     "start_time": "2023-05-16T20:46:08.588210",
     "status": "completed"
    },
    "tags": []
   },
   "outputs": [
    {
     "data": {
      "image/png": "[encoded data removed]",
      "text/plain": [
       "<Figure size 640x480 with 1 Axes>"
      ]
     },
     "metadata": {},
     "output_type": "display_data"
    }
   ],
   "source": [
    "import pandas as pd\n",
    "import numpy as np\n",
    "import matplotlib.pyplot as plt\n",
    "\n",
    "plt.imshow(X_test[6], cmap='gray')\n",
    "plt.show()\n"
   ]
  },
  {
   "cell_type": "code",
   "execution_count": 37,
   "id": "abc23cb4",
   "metadata": {
    "execution": {
     "iopub.execute_input": "2023-05-16T20:46:11.442072Z",
     "iopub.status.busy": "2023-05-16T20:46:11.441147Z",
     "iopub.status.idle": "2023-05-16T20:46:20.774389Z",
     "shell.execute_reply": "2023-05-16T20:46:20.773404Z"
    },
    "papermill": {
     "duration": 10.228867,
     "end_time": "2023-05-16T20:46:20.776809",
     "exception": false,
     "start_time": "2023-05-16T20:46:10.547942",
     "status": "completed"
    },
    "tags": []
   },
   "outputs": [],
   "source": [
    "import time\n",
    "from tensorflow.keras.models import load_model\n",
    "\n",
    "model1 = load_model('/kaggle/working/resent.h5')\n",
    "model2 = load_model('/kaggle/working/lenet5.h5')\n",
    "model3 = load_model('/kaggle/working/Densemodel.h5')\n",
    "model4 = load_model('/kaggle/working/inception.h5')\n",
    "model5 = load_model('/kaggle/working/mobilev2.h5')\n",
    "model6 = load_model('/kaggle/working/alex.h5')"
   ]
  },
  {
   "cell_type": "code",
   "execution_count": 38,
   "id": "3c4c59d0",
   "metadata": {
    "execution": {
     "iopub.execute_input": "2023-05-16T20:46:22.517411Z",
     "iopub.status.busy": "2023-05-16T20:46:22.516303Z",
     "iopub.status.idle": "2023-05-16T20:46:22.649823Z",
     "shell.execute_reply": "2023-05-16T20:46:22.648660Z"
    },
    "papermill": {
     "duration": 1.02173,
     "end_time": "2023-05-16T20:46:22.652530",
     "exception": false,
     "start_time": "2023-05-16T20:46:21.630800",
     "status": "completed"
    },
    "tags": []
   },
   "outputs": [
    {
     "name": "stdout",
     "output_type": "stream",
     "text": [
      "1/1 [==============================] - 0s 78ms/step\n",
      "Elapsed time:  0.12549257278442383 seconds\n"
     ]
    }
   ],
   "source": [
    "start_time = time.time() # start the timer\n",
    "model2.predict(X_test[0:1])\n",
    "end_time = time.time() # stop the timer\n",
    "\n",
    "elapsed_time = end_time - start_time\n",
    "print(\"Elapsed time: \", elapsed_time, \"seconds\")\n",
    "\n",
    "\n",
    "# model1.predict(X_test[0:1])\n",
    "# model2.predict(X_test[0:1])\n",
    "# model3.predict(X_test[0:1])\n",
    "# model4.predict(X_test[0:1])\n",
    "# model5.predict(X_test[0:1])\n",
    "# model6.predict(X_test[0:1])"
   ]
  }
 ],
 "metadata": {
  "kernelspec": {
   "display_name": "Python 3",
   "language": "python",
   "name": "python3"
  },
  "language_info": {
   "codemirror_mode": {
    "name": "ipython",
    "version": 3
   },
   "file_extension": ".py",
   "mimetype": "text/x-python",
   "name": "python",
   "nbconvert_exporter": "python",
   "pygments_lexer": "ipython3",
   "version": "3.10.10"
  },
  "papermill": {
   "default_parameters": {},
   "duration": 1252.056555,
   "end_time": "2023-05-16T20:46:26.834203",
   "environment_variables": {},
   "exception": null,
   "input_path": "__notebook__.ipynb",
   "output_path": "__notebook__.ipynb",
   "parameters": {},
   "start_time": "2023-05-16T20:25:34.777648",
   "version": "2.4.0"
  }
 },
 "nbformat": 4,
 "nbformat_minor": 5
}
